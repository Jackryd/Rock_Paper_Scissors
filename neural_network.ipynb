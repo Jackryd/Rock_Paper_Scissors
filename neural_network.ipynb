{
 "cells": [
  {
   "cell_type": "markdown",
   "metadata": {},
   "source": [
    "This jupyter notebook shows the creation of a proof of principle Neural Network which trains on the past 5 moves and tries to predict what the next move will be in the rock paper scissors game. Future plans are to create a LSTM network due to their proficiency at working with sequential data - like rock paper scissor rounds. This model has attained a training accuracy of ~50%, but validation around 38%, indicating that the model is overfitting, but still slightly better than simply random guessing. But further exploration into this model is needed as the nature of the data is in fact very *complex*."
   ]
  },
  {
   "cell_type": "code",
   "execution_count": null,
   "metadata": {},
   "outputs": [],
   "source": [
    "import pandas as pd\n",
    "import numpy as np\n",
    "import matplotlib.pyplot as plt\n",
    "from matplotlib import rc\n",
    "from sklearn.metrics import confusion_matrix\n",
    "import seaborn as sns"
   ]
  },
  {
   "cell_type": "code",
   "execution_count": null,
   "metadata": {},
   "outputs": [],
   "source": [
    "df = pd.read_csv('/content/RPS_data_processed.csv')\n",
    "df = df.rename(columns={'move': 'winning_move'})"
   ]
  },
  {
   "cell_type": "code",
   "execution_count": null,
   "metadata": {},
   "outputs": [],
   "source": [
    "import pandas as pd\n",
    "import numpy as np\n",
    "from sklearn.preprocessing import LabelEncoder\n",
    "from sklearn.model_selection import train_test_split\n",
    "\n",
    "def get_player2_move(row):\n",
    "    if row['winner'] == 1:  # Player 1 wins\n",
    "        if row['move'] == 1:\n",
    "            return -1\n",
    "        elif row['move'] == 0:\n",
    "            return 1\n",
    "        else:  # scissors\n",
    "            return 0\n",
    "    elif row['winner'] == -1:  # Player 2 wins\n",
    "        return row['move']\n",
    "    else:  # Draw\n",
    "        return row['move']\n",
    "\n",
    "def prepare_sequences(df, sequence_length=5):\n",
    "    # Add player 2's move to the dataframe\n",
    "    df['player2_move'] = df.apply(get_player2_move, axis=1)\n",
    "\n",
    "    X = []\n",
    "    y = []\n",
    "\n",
    "    for i in range(len(df) - sequence_length):\n",
    "        sequence = df.iloc[i:i+sequence_length]\n",
    "        next_move = df.iloc[i+sequence_length]['player2_move']\n",
    "\n",
    "        X.append(sequence[['winner', 'move']].values.flatten())\n",
    "        y.append(next_move)\n",
    "\n",
    "    return np.array(X), np.array(y)\n",
    "\n",
    "df = pd.read_csv('/content/RPS_data_processed.csv')\n",
    "X, y = prepare_sequences(df)\n",
    "\n",
    "# Encode the moves for y\n",
    "move_encoder = LabelEncoder()\n",
    "y_encoded = move_encoder.fit_transform(y)\n",
    "\n",
    "# Encode the input sequences\n",
    "input_encoder = LabelEncoder()\n",
    "X_encoded = input_encoder.fit_transform(X.ravel()).reshape(X.shape)\n",
    "\n",
    "# Split the data into training and testing sets\n",
    "X_train, X_test, y_train, y_test = train_test_split(X_encoded, y_encoded, test_size=0.2, random_state=42)\n",
    "\n",
    "print(f\"Shape of X_train: {X_train.shape}\")\n",
    "print(f\"Shape of y_train: {y_train.shape}\")\n",
    "print(f\"Unique moves: {move_encoder.classes_}\")\n",
    "print(f\"Number of classes: {len(move_encoder.classes_)}\")"
   ]
  },
  {
   "cell_type": "code",
   "execution_count": null,
   "metadata": {},
   "outputs": [],
   "source": [
    "from tensorflow.keras.layers import Dense\n",
    "from tensorflow.keras.utils import to_categorical\n",
    "import numpy as np\n",
    "from tensorflow.keras.models import Sequential\n",
    "from tensorflow.keras.layers import Dense, Dropout, BatchNormalization\n",
    "from tensorflow.keras.regularizers import l2\n",
    "\n",
    "# Convert to categorical\n",
    "num_classes = len(np.unique(y_train))\n",
    "y_train_cat = to_categorical(y_train, num_classes=num_classes)\n",
    "y_test_cat = to_categorical(y_test, num_classes=num_classes)\n",
    "\n",
    "model = Sequential([\n",
    "    Dense(64, activation='relu', input_shape=(X_train.shape[1],)),\n",
    "    Dense(32, activation='relu'),\n",
    "    Dense(num_classes, activation='softmax')\n",
    "])\n",
    "\n",
    "model.compile(optimizer='adam', loss='categorical_crossentropy', metrics=['accuracy'])\n",
    "\n",
    "model.fit(X_train, y_train_cat, epochs=50, batch_size=32, validation_split=0.2, verbose=1)\n",
    "\n",
    "nn_predictions = model.predict(X_test)\n",
    "nn_accuracy = np.mean(np.argmax(nn_predictions, axis=1) == y_test)\n",
    "print(f\"Neural Network Accuracy: {nn_accuracy}\")"
   ]
  },
  {
   "cell_type": "code",
   "execution_count": null,
   "metadata": {},
   "outputs": [],
   "source": [
    "from sklearn.metrics import confusion_matrix\n",
    "import seaborn as sns\n",
    "import matplotlib.pyplot as plt\n",
    "import tensorflow as tf\n",
    "\n",
    "new_model = tf.keras.models.load_model('simpleNN.h5')\n",
    "\n",
    "# Get predictions\n",
    "y_pred = np.argmax(model.predict(X_test), axis=1)\n",
    "\n",
    "# Create confusion matrix\n",
    "cm = confusion_matrix(y_test, y_pred)\n",
    "\n",
    "# Plot confusion matrix\n",
    "plt.figure(figsize=(10,8))\n",
    "sns.heatmap(cm, annot=True, fmt='d', cmap='Blues',\n",
    "            xticklabels=move_encoder.classes_,\n",
    "            yticklabels=move_encoder.classes_)\n",
    "plt.title('Confusion Matrix')\n",
    "plt.xlabel('Predicted')\n",
    "plt.ylabel('Actual')\n",
    "plt.show()"
   ]
  }
 ],
 "metadata": {
  "language_info": {
   "name": "python"
  }
 },
 "nbformat": 4,
 "nbformat_minor": 2
}
